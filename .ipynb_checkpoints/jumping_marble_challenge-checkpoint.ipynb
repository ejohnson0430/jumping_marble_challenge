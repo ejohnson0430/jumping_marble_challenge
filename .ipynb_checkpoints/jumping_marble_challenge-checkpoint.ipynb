{
 "cells": [
  {
   "cell_type": "code",
   "execution_count": 1,
   "metadata": {},
   "outputs": [],
   "source": [
    "import numpy as np\n",
    "import matplotlib.pyplot as plt"
   ]
  },
  {
   "cell_type": "code",
   "execution_count": 2,
   "metadata": {},
   "outputs": [],
   "source": [
    "def create_board(board_size):\n",
    "    N = board_size\n",
    "    M = board_size*2-1\n",
    "    G = np.zeros([N,M])\n",
    "    ball_positions = np.array([[i,x] for i in range(N) for x in range(i,M-i+1,2)]).T\n",
    "    G[ball_positions[0],ball_positions[1]]=1\n",
    "    return G\n",
    "\n",
    "def position_valid(G, position):\n",
    "    N,M = G.shape\n",
    "    i,j = position\n",
    "    return (i >= 0 and i < N and j >= i and j < M-i and (i+j)%2==0)\n",
    "\n",
    "def jump_positions(Jump):\n",
    "    ball_position,jump_vector = Jump\n",
    "    target = ball_position+jump_vector\n",
    "    landing = ball_position+jump_vector*2\n",
    "    return target, landing\n",
    "\n",
    "def execute_jump(G,Jump):\n",
    "    target, landing = jump_positions(Jump)\n",
    "    ball_position = Jump[0]\n",
    "    G_prime=G.copy()\n",
    "    for position in [ball_position, target, landing]:\n",
    "        G_prime[position[0], position[1]] = 1-G_prime[position[0], position[1]]\n",
    "    return G_prime\n",
    "\n",
    "def valid_jumps(G):\n",
    "    diagonal_jump_vectors = [[i,j] for i in [1,-1] for j in [1,-1]]\n",
    "    horizontal_jump_vectors = [[0,j] for j in [2,-2]]\n",
    "    all_jump_vectors = np.array(diagonal_jump_vectors+horizontal_jump_vectors)\n",
    "    remaining_ball_positions = np.array(np.where(G)).T\n",
    "    all_jumps = [[ball_position,jump_vector] \\\n",
    "             for ball_position in remaining_ball_positions \\\n",
    "             for jump_vector in all_jump_vectors]\n",
    "    for Jump in all_jumps:\n",
    "        target, landing = jump_positions(Jump)\n",
    "        if position_valid(G,target) and position_valid(G,landing) \\\n",
    "        and G[target[0],target[1]] and not G[landing[0],landing[1]]:\n",
    "                yield Jump\n",
    "\n",
    "def solve_recursive(G, solution=(), end_position=None):  \n",
    "    if np.sum(G)==1:\n",
    "            if end_position:\n",
    "                if G[end_position[0], end_position[1]]:\n",
    "                    yield solution\n",
    "            else:\n",
    "                yield solution\n",
    "    else:\n",
    "        for Jump in valid_jumps(G):\n",
    "            G_prime = execute_jump(G,Jump)\n",
    "            yield from solve_recursive(G_prime, solution+(Jump,), end_position)\n",
    "            \n",
    "def visualize_board(G,Jump=None):\n",
    "    x_scale=2e2\n",
    "    y_scale=4e1\n",
    "    size=250\n",
    "    x,y = np.where(G)\n",
    "    N,M = G.shape\n",
    "    ball_positions = np.array([[i,x] for i in range(N) for x in range(i,M-i+1,2)]).T\n",
    "    plt.scatter(ball_positions[1]/x_scale,ball_positions[0]/y_scale,\n",
    "                s=size,color='grey',alpha=0.3)\n",
    "    plt.scatter(y/x_scale,x/y_scale,s=size,alpha=0.7)\n",
    "    if Jump:\n",
    "        target, landing = jump_positions(Jump)\n",
    "        plt.scatter(target[1]/x_scale,target[0]/y_scale,s=size)\n",
    "        plt.scatter(Jump[0][1]/x_scale,Jump[0][0]/y_scale,s=size)\n",
    "        plt.arrow(Jump[0][1]/x_scale,Jump[0][0]/y_scale,\n",
    "                  Jump[1][1]*2/x_scale,Jump[1][0]*2/y_scale,alpha=0.5)\n",
    "        plt.title(f'{Jump[0]} jump {Jump[0]+Jump[1]}')\n",
    "    plt.axis('off')\n",
    "    plt.show()"
   ]
  },
  {
   "cell_type": "code",
   "execution_count": null,
   "metadata": {
    "scrolled": false
   },
   "outputs": [
    {
     "data": {
      "image/png": "[encoded data removed]",
      "text/plain": [
       "<Figure size 432x288 with 1 Axes>"
      ]
     },
     "metadata": {
      "needs_background": "light"
     },
     "output_type": "display_data"
    }
   ],
   "source": [
    "%%time\n",
    "\n",
    "BOARD_SIZE = 5\n",
    "EMPTY_CELL = [0,0]\n",
    "END_POSITION = [4,4]\n",
    "\n",
    "G = create_board(BOARD_SIZE)\n",
    "G[EMPTY_CELL[0],EMPTY_CELL[1]] = 0\n",
    "\n",
    "visualize_board(G)\n",
    "try:\n",
    "    solution = next(solve_recursive(G,end_position=END_POSITION))\n",
    "    G_prime=G.copy()\n",
    "    for Jump in solution:\n",
    "        visualize_board(G_prime,Jump)\n",
    "        G_prime = execute_jump(G_prime,Jump)\n",
    "    visualize_board(G_prime)\n",
    "except StopIteration:\n",
    "    print('No solution')\n",
    "    \n",
    "print( f'BOARD_SIZE = {BOARD_SIZE} \\n'\n",
    "    f'EMPTY_CELL = {EMPTY_CELL} \\n'\n",
    "    f'END_POSITION = {END_POSITION} \\n'\n",
    "    f'# Solutions = {solution_count}' )"
   ]
  },
  {
   "cell_type": "code",
   "execution_count": null,
   "metadata": {},
   "outputs": [],
   "source": [
    "'''\n",
    "BOARD_SIZE = 5\n",
    "EMPTY_CELL = [[2],[6]]\n",
    "solutions - 85258\n",
    "6min 40s\n",
    "'''\n",
    "'''\n",
    "BOARD_SIZE = 5\n",
    "EMPTY_CELL = [[0],[0]]\n",
    "solutions - 29760\n",
    "3min 25s\n",
    "'''"
   ]
  },
  {
   "cell_type": "code",
   "execution_count": null,
   "metadata": {},
   "outputs": [],
   "source": []
  }
 ],
 "metadata": {
  "kernelspec": {
   "display_name": "Python 3",
   "language": "python",
   "name": "python3"
  },
  "language_info": {
   "codemirror_mode": {
    "name": "ipython",
    "version": 3
   },
   "file_extension": ".py",
   "mimetype": "text/x-python",
   "name": "python",
   "nbconvert_exporter": "python",
   "pygments_lexer": "ipython3",
   "version": "3.7.3"
  }
 },
 "nbformat": 4,
 "nbformat_minor": 2
}
